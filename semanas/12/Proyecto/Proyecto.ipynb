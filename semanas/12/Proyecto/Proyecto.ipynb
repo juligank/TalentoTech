{
 "cells": [
  {
   "cell_type": "markdown",
   "metadata": {},
   "source": [
    "DATASET CINEMA\n",
    "1. CONTEXTO Y USO \n",
    "\n",
    "En La industria cinematográfica podemos utilizar  los modelos predictivos. Al igual que en otras industrias, comercio  la banca y la restaurantes, la previsión de ventas puede ayudar a los cines a reducir costes y mejorar el retorno de la inversión. adicionalmnete optimizar la proyección en diferentes lugares, así como la segmentación y fijación de precios del mercado de forma eficaz.\n",
    "\n",
    "Asimismo, los datos históricos de ventas y detalles de las películas, como el coste, el reparto y el equipo, y otros detalles del proyecto, como el calendario, pueden ayudar a los productores a seleccionar un reparto y un equipo de alto rendimiento y planificar un mejor retorno de la inversión de los proyectos. También ayuda a asignar lugares de proyección en puntos y áreas de gran demanda.\n",
    "\n",
    "Fuente: Kaggle \n",
    "link: https://www.kaggle.com/datasets/arashnic/cinema-ticket"
   ]
  },
  {
   "cell_type": "markdown",
   "metadata": {},
   "source": [
    "2. Objetivo Clasificacion \n",
    "// consulto a chatgpt que podria clasificar, (predicion de ocupacion, prediccion de ventas de entradas, prediccion de ventas de ingresos) esta ultima me llama la atencion\n",
    "\n",
    "Predicción de Ingresos: (total_sales)\n",
    "\n",
    "Entrada: Datos como la cantidad de entradas vendidas, el precio del boleto, y la ubicación del cine.\n",
    "Predicción: El modelo podría predecir que los ingresos generados estarán en la categoría \"Alto\" (más del 80% del rango de ingresos posibles).\n",
    "\n",
    "\n",
    "https://chatgpt.com/c/a892a6d5-7528-4ef0-aa71-84a33b222163\n",
    "\n",
    "se deberia predecir dentro de las 5 categorias Bajo, Medio Bajo, Medio, Medio"
   ]
  },
  {
   "cell_type": "markdown",
   "metadata": {},
   "source": [
    "3. IMPORTACIONES "
   ]
  },
  {
   "cell_type": "code",
   "execution_count": 744,
   "metadata": {},
   "outputs": [],
   "source": [
    "import pandas as pd\n",
    "import numpy as np\n",
    "from sklearn.preprocessing import MinMaxScaler\n",
    "from sklearn.model_selection import train_test_split\n",
    "from sklearn.metrics import mean_absolute_error\n",
    "from sklearn.metrics import mean_squared_error\n",
    "from sklearn.compose import ColumnTransformer\n",
    "from sklearn.preprocessing import StandardScaler, OneHotEncoder\n",
    "#from statsmodels.tsa.arima.model import ARIMA"
   ]
  },
  {
   "cell_type": "code",
   "execution_count": 745,
   "metadata": {},
   "outputs": [
    {
     "name": "stdout",
     "output_type": "stream",
     "text": [
      "<class 'pandas.core.frame.DataFrame'>\n",
      "RangeIndex: 142524 entries, 0 to 142523\n",
      "Data columns (total 14 columns):\n",
      " #   Column        Non-Null Count   Dtype  \n",
      "---  ------        --------------   -----  \n",
      " 0   film_code     142524 non-null  int64  \n",
      " 1   cinema_code   142524 non-null  int64  \n",
      " 2   total_sales   142524 non-null  int64  \n",
      " 3   tickets_sold  142524 non-null  int64  \n",
      " 4   tickets_out   142524 non-null  int64  \n",
      " 5   show_time     142524 non-null  int64  \n",
      " 6   occu_perc     142399 non-null  float64\n",
      " 7   ticket_price  142524 non-null  float64\n",
      " 8   ticket_use    142524 non-null  int64  \n",
      " 9   capacity      142399 non-null  float64\n",
      " 10  date          142524 non-null  object \n",
      " 11  month         142524 non-null  int64  \n",
      " 12  quarter       142524 non-null  int64  \n",
      " 13  day           142524 non-null  int64  \n",
      "dtypes: float64(3), int64(10), object(1)\n",
      "memory usage: 15.2+ MB\n"
     ]
    },
    {
     "data": {
      "text/html": [
       "<div>\n",
       "<style scoped>\n",
       "    .dataframe tbody tr th:only-of-type {\n",
       "        vertical-align: middle;\n",
       "    }\n",
       "\n",
       "    .dataframe tbody tr th {\n",
       "        vertical-align: top;\n",
       "    }\n",
       "\n",
       "    .dataframe thead th {\n",
       "        text-align: right;\n",
       "    }\n",
       "</style>\n",
       "<table border=\"1\" class=\"dataframe\">\n",
       "  <thead>\n",
       "    <tr style=\"text-align: right;\">\n",
       "      <th></th>\n",
       "      <th>film_code</th>\n",
       "      <th>cinema_code</th>\n",
       "      <th>total_sales</th>\n",
       "      <th>tickets_sold</th>\n",
       "      <th>tickets_out</th>\n",
       "      <th>show_time</th>\n",
       "      <th>occu_perc</th>\n",
       "      <th>ticket_price</th>\n",
       "      <th>ticket_use</th>\n",
       "      <th>capacity</th>\n",
       "      <th>month</th>\n",
       "      <th>quarter</th>\n",
       "      <th>day</th>\n",
       "    </tr>\n",
       "  </thead>\n",
       "  <tbody>\n",
       "    <tr>\n",
       "      <th>count</th>\n",
       "      <td>142524.000000</td>\n",
       "      <td>142524.000000</td>\n",
       "      <td>1.425240e+05</td>\n",
       "      <td>142524.000000</td>\n",
       "      <td>142524.000000</td>\n",
       "      <td>142524.000000</td>\n",
       "      <td>142399.000000</td>\n",
       "      <td>142524.000000</td>\n",
       "      <td>142524.000000</td>\n",
       "      <td>142399.000000</td>\n",
       "      <td>142524.000000</td>\n",
       "      <td>142524.000000</td>\n",
       "      <td>142524.000000</td>\n",
       "    </tr>\n",
       "    <tr>\n",
       "      <th>mean</th>\n",
       "      <td>1518.985111</td>\n",
       "      <td>320.378427</td>\n",
       "      <td>1.234728e+07</td>\n",
       "      <td>140.137570</td>\n",
       "      <td>0.237413</td>\n",
       "      <td>3.932103</td>\n",
       "      <td>19.965986</td>\n",
       "      <td>81234.599886</td>\n",
       "      <td>139.900157</td>\n",
       "      <td>854.723605</td>\n",
       "      <td>6.776852</td>\n",
       "      <td>2.634721</td>\n",
       "      <td>16.112585</td>\n",
       "    </tr>\n",
       "    <tr>\n",
       "      <th>std</th>\n",
       "      <td>36.184450</td>\n",
       "      <td>159.701229</td>\n",
       "      <td>3.065486e+07</td>\n",
       "      <td>279.758733</td>\n",
       "      <td>2.923206</td>\n",
       "      <td>3.056276</td>\n",
       "      <td>22.653445</td>\n",
       "      <td>33236.599278</td>\n",
       "      <td>279.564935</td>\n",
       "      <td>953.118103</td>\n",
       "      <td>2.195843</td>\n",
       "      <td>0.809692</td>\n",
       "      <td>8.949471</td>\n",
       "    </tr>\n",
       "    <tr>\n",
       "      <th>min</th>\n",
       "      <td>1471.000000</td>\n",
       "      <td>32.000000</td>\n",
       "      <td>2.000000e+04</td>\n",
       "      <td>1.000000</td>\n",
       "      <td>0.000000</td>\n",
       "      <td>1.000000</td>\n",
       "      <td>0.000000</td>\n",
       "      <td>483.870968</td>\n",
       "      <td>-219.000000</td>\n",
       "      <td>-2.000000</td>\n",
       "      <td>2.000000</td>\n",
       "      <td>1.000000</td>\n",
       "      <td>1.000000</td>\n",
       "    </tr>\n",
       "    <tr>\n",
       "      <th>25%</th>\n",
       "      <td>1485.000000</td>\n",
       "      <td>181.000000</td>\n",
       "      <td>1.260000e+06</td>\n",
       "      <td>18.000000</td>\n",
       "      <td>0.000000</td>\n",
       "      <td>2.000000</td>\n",
       "      <td>3.750000</td>\n",
       "      <td>60000.000000</td>\n",
       "      <td>18.000000</td>\n",
       "      <td>276.994486</td>\n",
       "      <td>5.000000</td>\n",
       "      <td>2.000000</td>\n",
       "      <td>8.000000</td>\n",
       "    </tr>\n",
       "    <tr>\n",
       "      <th>50%</th>\n",
       "      <td>1498.000000</td>\n",
       "      <td>324.000000</td>\n",
       "      <td>3.720000e+06</td>\n",
       "      <td>50.000000</td>\n",
       "      <td>0.000000</td>\n",
       "      <td>3.000000</td>\n",
       "      <td>10.350000</td>\n",
       "      <td>79454.235185</td>\n",
       "      <td>50.000000</td>\n",
       "      <td>525.714286</td>\n",
       "      <td>7.000000</td>\n",
       "      <td>3.000000</td>\n",
       "      <td>16.000000</td>\n",
       "    </tr>\n",
       "    <tr>\n",
       "      <th>75%</th>\n",
       "      <td>1556.000000</td>\n",
       "      <td>474.000000</td>\n",
       "      <td>1.110000e+07</td>\n",
       "      <td>143.000000</td>\n",
       "      <td>0.000000</td>\n",
       "      <td>5.000000</td>\n",
       "      <td>28.210000</td>\n",
       "      <td>100000.000000</td>\n",
       "      <td>143.000000</td>\n",
       "      <td>1038.961039</td>\n",
       "      <td>9.000000</td>\n",
       "      <td>3.000000</td>\n",
       "      <td>24.000000</td>\n",
       "    </tr>\n",
       "    <tr>\n",
       "      <th>max</th>\n",
       "      <td>1589.000000</td>\n",
       "      <td>637.000000</td>\n",
       "      <td>1.262820e+09</td>\n",
       "      <td>8499.000000</td>\n",
       "      <td>311.000000</td>\n",
       "      <td>60.000000</td>\n",
       "      <td>147.500000</td>\n",
       "      <td>700000.000000</td>\n",
       "      <td>8499.000000</td>\n",
       "      <td>9692.097160</td>\n",
       "      <td>11.000000</td>\n",
       "      <td>4.000000</td>\n",
       "      <td>31.000000</td>\n",
       "    </tr>\n",
       "  </tbody>\n",
       "</table>\n",
       "</div>"
      ],
      "text/plain": [
       "           film_code    cinema_code   total_sales   tickets_sold  \\\n",
       "count  142524.000000  142524.000000  1.425240e+05  142524.000000   \n",
       "mean     1518.985111     320.378427  1.234728e+07     140.137570   \n",
       "std        36.184450     159.701229  3.065486e+07     279.758733   \n",
       "min      1471.000000      32.000000  2.000000e+04       1.000000   \n",
       "25%      1485.000000     181.000000  1.260000e+06      18.000000   \n",
       "50%      1498.000000     324.000000  3.720000e+06      50.000000   \n",
       "75%      1556.000000     474.000000  1.110000e+07     143.000000   \n",
       "max      1589.000000     637.000000  1.262820e+09    8499.000000   \n",
       "\n",
       "         tickets_out      show_time      occu_perc   ticket_price  \\\n",
       "count  142524.000000  142524.000000  142399.000000  142524.000000   \n",
       "mean        0.237413       3.932103      19.965986   81234.599886   \n",
       "std         2.923206       3.056276      22.653445   33236.599278   \n",
       "min         0.000000       1.000000       0.000000     483.870968   \n",
       "25%         0.000000       2.000000       3.750000   60000.000000   \n",
       "50%         0.000000       3.000000      10.350000   79454.235185   \n",
       "75%         0.000000       5.000000      28.210000  100000.000000   \n",
       "max       311.000000      60.000000     147.500000  700000.000000   \n",
       "\n",
       "          ticket_use       capacity          month        quarter  \\\n",
       "count  142524.000000  142399.000000  142524.000000  142524.000000   \n",
       "mean      139.900157     854.723605       6.776852       2.634721   \n",
       "std       279.564935     953.118103       2.195843       0.809692   \n",
       "min      -219.000000      -2.000000       2.000000       1.000000   \n",
       "25%        18.000000     276.994486       5.000000       2.000000   \n",
       "50%        50.000000     525.714286       7.000000       3.000000   \n",
       "75%       143.000000    1038.961039       9.000000       3.000000   \n",
       "max      8499.000000    9692.097160      11.000000       4.000000   \n",
       "\n",
       "                 day  \n",
       "count  142524.000000  \n",
       "mean       16.112585  \n",
       "std         8.949471  \n",
       "min         1.000000  \n",
       "25%         8.000000  \n",
       "50%        16.000000  \n",
       "75%        24.000000  \n",
       "max        31.000000  "
      ]
     },
     "execution_count": 745,
     "metadata": {},
     "output_type": "execute_result"
    }
   ],
   "source": [
    "\n",
    "df = pd.read_csv(\"cinemaTicket.csv\")\n",
    "df.info()\n",
    "\n",
    "\n",
    "df.describe()"
   ]
  },
  {
   "cell_type": "markdown",
   "metadata": {},
   "source": [
    "4. lIMPIEZA DE DATOS\n",
    "\n",
    ">Limpieza de datos (imputar o eliminar valores])\n",
    "Eliminación de Duplicados: Identificar y eliminar registros duplicados.\n",
    "Corrección de Errores: Corregir errores o inconsistencias en los datos"
   ]
  },
  {
   "cell_type": "code",
   "execution_count": 746,
   "metadata": {},
   "outputs": [
    {
     "name": "stdout",
     "output_type": "stream",
     "text": [
      "film_code         0\n",
      "cinema_code       0\n",
      "total_sales       0\n",
      "tickets_sold      0\n",
      "tickets_out       0\n",
      "show_time         0\n",
      "occu_perc       125\n",
      "ticket_price      0\n",
      "ticket_use        0\n",
      "capacity        125\n",
      "date              0\n",
      "month             0\n",
      "quarter           0\n",
      "day               0\n",
      "dtype: int64\n"
     ]
    }
   ],
   "source": [
    "\n",
    "\n",
    "#  DataFrame df validacion de datos nulos\n",
    "print(df.isnull().sum())\n"
   ]
  },
  {
   "cell_type": "markdown",
   "metadata": {},
   "source": [
    "Elimino las filas vacias debido a que representan un 0.088 % de los datos de las"
   ]
  },
  {
   "cell_type": "markdown",
   "metadata": {},
   "source": []
  },
  {
   "cell_type": "code",
   "execution_count": 747,
   "metadata": {},
   "outputs": [],
   "source": [
    "df.describe()\n",
    "df = df.dropna(subset=['occu_perc', 'capacity'])\n"
   ]
  },
  {
   "cell_type": "markdown",
   "metadata": {},
   "source": [
    "Elimino columnas innecesarias y reordeno el dataframe"
   ]
  },
  {
   "cell_type": "code",
   "execution_count": 748,
   "metadata": {},
   "outputs": [
    {
     "name": "stdout",
     "output_type": "stream",
     "text": [
      "Index(['film_code', 'cinema_code', 'total_sales', 'tickets_sold',\n",
      "       'tickets_out', 'show_time', 'occu_perc', 'ticket_price', 'ticket_use',\n",
      "       'capacity', 'date', 'month', 'quarter', 'day'],\n",
      "      dtype='object')\n"
     ]
    },
    {
     "data": {
      "text/html": [
       "<div>\n",
       "<style scoped>\n",
       "    .dataframe tbody tr th:only-of-type {\n",
       "        vertical-align: middle;\n",
       "    }\n",
       "\n",
       "    .dataframe tbody tr th {\n",
       "        vertical-align: top;\n",
       "    }\n",
       "\n",
       "    .dataframe thead th {\n",
       "        text-align: right;\n",
       "    }\n",
       "</style>\n",
       "<table border=\"1\" class=\"dataframe\">\n",
       "  <thead>\n",
       "    <tr style=\"text-align: right;\">\n",
       "      <th></th>\n",
       "      <th>film_code</th>\n",
       "      <th>cinema_code</th>\n",
       "      <th>show_time</th>\n",
       "      <th>occu_perc</th>\n",
       "      <th>capacity</th>\n",
       "      <th>date</th>\n",
       "      <th>month</th>\n",
       "      <th>quarter</th>\n",
       "      <th>day</th>\n",
       "      <th>tickets_sold</th>\n",
       "    </tr>\n",
       "  </thead>\n",
       "  <tbody>\n",
       "    <tr>\n",
       "      <th>0</th>\n",
       "      <td>1492</td>\n",
       "      <td>304</td>\n",
       "      <td>4</td>\n",
       "      <td>4.26</td>\n",
       "      <td>610</td>\n",
       "      <td>736819</td>\n",
       "      <td>5</td>\n",
       "      <td>2</td>\n",
       "      <td>5</td>\n",
       "      <td>26</td>\n",
       "    </tr>\n",
       "    <tr>\n",
       "      <th>1</th>\n",
       "      <td>1492</td>\n",
       "      <td>352</td>\n",
       "      <td>5</td>\n",
       "      <td>8.08</td>\n",
       "      <td>519</td>\n",
       "      <td>736819</td>\n",
       "      <td>5</td>\n",
       "      <td>2</td>\n",
       "      <td>5</td>\n",
       "      <td>42</td>\n",
       "    </tr>\n",
       "    <tr>\n",
       "      <th>2</th>\n",
       "      <td>1492</td>\n",
       "      <td>489</td>\n",
       "      <td>4</td>\n",
       "      <td>20.00</td>\n",
       "      <td>160</td>\n",
       "      <td>736819</td>\n",
       "      <td>5</td>\n",
       "      <td>2</td>\n",
       "      <td>5</td>\n",
       "      <td>32</td>\n",
       "    </tr>\n",
       "    <tr>\n",
       "      <th>3</th>\n",
       "      <td>1492</td>\n",
       "      <td>429</td>\n",
       "      <td>1</td>\n",
       "      <td>11.01</td>\n",
       "      <td>108</td>\n",
       "      <td>736819</td>\n",
       "      <td>5</td>\n",
       "      <td>2</td>\n",
       "      <td>5</td>\n",
       "      <td>12</td>\n",
       "    </tr>\n",
       "    <tr>\n",
       "      <th>4</th>\n",
       "      <td>1492</td>\n",
       "      <td>524</td>\n",
       "      <td>3</td>\n",
       "      <td>16.67</td>\n",
       "      <td>89</td>\n",
       "      <td>736819</td>\n",
       "      <td>5</td>\n",
       "      <td>2</td>\n",
       "      <td>5</td>\n",
       "      <td>15</td>\n",
       "    </tr>\n",
       "    <tr>\n",
       "      <th>...</th>\n",
       "      <td>...</td>\n",
       "      <td>...</td>\n",
       "      <td>...</td>\n",
       "      <td>...</td>\n",
       "      <td>...</td>\n",
       "      <td>...</td>\n",
       "      <td>...</td>\n",
       "      <td>...</td>\n",
       "      <td>...</td>\n",
       "      <td>...</td>\n",
       "    </tr>\n",
       "    <tr>\n",
       "      <th>142519</th>\n",
       "      <td>1569</td>\n",
       "      <td>495</td>\n",
       "      <td>2</td>\n",
       "      <td>3.86</td>\n",
       "      <td>569</td>\n",
       "      <td>737002</td>\n",
       "      <td>11</td>\n",
       "      <td>4</td>\n",
       "      <td>4</td>\n",
       "      <td>22</td>\n",
       "    </tr>\n",
       "    <tr>\n",
       "      <th>142520</th>\n",
       "      <td>1569</td>\n",
       "      <td>474</td>\n",
       "      <td>1</td>\n",
       "      <td>65.22</td>\n",
       "      <td>22</td>\n",
       "      <td>737002</td>\n",
       "      <td>11</td>\n",
       "      <td>4</td>\n",
       "      <td>4</td>\n",
       "      <td>15</td>\n",
       "    </tr>\n",
       "    <tr>\n",
       "      <th>142521</th>\n",
       "      <td>1569</td>\n",
       "      <td>524</td>\n",
       "      <td>3</td>\n",
       "      <td>9.20</td>\n",
       "      <td>86</td>\n",
       "      <td>737002</td>\n",
       "      <td>11</td>\n",
       "      <td>4</td>\n",
       "      <td>4</td>\n",
       "      <td>8</td>\n",
       "    </tr>\n",
       "    <tr>\n",
       "      <th>142522</th>\n",
       "      <td>1569</td>\n",
       "      <td>529</td>\n",
       "      <td>2</td>\n",
       "      <td>5.00</td>\n",
       "      <td>100</td>\n",
       "      <td>737002</td>\n",
       "      <td>11</td>\n",
       "      <td>4</td>\n",
       "      <td>4</td>\n",
       "      <td>5</td>\n",
       "    </tr>\n",
       "    <tr>\n",
       "      <th>142523</th>\n",
       "      <td>1569</td>\n",
       "      <td>486</td>\n",
       "      <td>1</td>\n",
       "      <td>1.79</td>\n",
       "      <td>279</td>\n",
       "      <td>737002</td>\n",
       "      <td>11</td>\n",
       "      <td>4</td>\n",
       "      <td>4</td>\n",
       "      <td>5</td>\n",
       "    </tr>\n",
       "  </tbody>\n",
       "</table>\n",
       "<p>142399 rows × 10 columns</p>\n",
       "</div>"
      ],
      "text/plain": [
       "        film_code  cinema_code  show_time  occu_perc  capacity    date  month  \\\n",
       "0            1492          304          4       4.26       610  736819      5   \n",
       "1            1492          352          5       8.08       519  736819      5   \n",
       "2            1492          489          4      20.00       160  736819      5   \n",
       "3            1492          429          1      11.01       108  736819      5   \n",
       "4            1492          524          3      16.67        89  736819      5   \n",
       "...           ...          ...        ...        ...       ...     ...    ...   \n",
       "142519       1569          495          2       3.86       569  737002     11   \n",
       "142520       1569          474          1      65.22        22  737002     11   \n",
       "142521       1569          524          3       9.20        86  737002     11   \n",
       "142522       1569          529          2       5.00       100  737002     11   \n",
       "142523       1569          486          1       1.79       279  737002     11   \n",
       "\n",
       "        quarter  day  tickets_sold  \n",
       "0             2    5            26  \n",
       "1             2    5            42  \n",
       "2             2    5            32  \n",
       "3             2    5            12  \n",
       "4             2    5            15  \n",
       "...         ...  ...           ...  \n",
       "142519        4    4            22  \n",
       "142520        4    4            15  \n",
       "142521        4    4             8  \n",
       "142522        4    4             5  \n",
       "142523        4    4             5  \n",
       "\n",
       "[142399 rows x 10 columns]"
      ]
     },
     "execution_count": 748,
     "metadata": {},
     "output_type": "execute_result"
    }
   ],
   "source": [
    "print(df.columns)\n",
    "df.drop(columns=['total_sales','tickets_out','ticket_use','ticket_price'], inplace=True)\n",
    "\n",
    " #Obtener el nombre de la tercera columna\n",
    "columna_a_predecir  = df.columns[2] #tickets_sold\n",
    "\n",
    "# Crear una nueva lista de columnas reordenada\n",
    "columnas_reordenadas = [col for col in df.columns if col != columna_a_predecir ] + [columna_a_predecir ]\n",
    "\n",
    "# Reordenar las columnas del DataFrame\n",
    "df = df[columnas_reordenadas]\n",
    "\n",
    "\n",
    "# Convertir características categóricas fecha a-->ordinal\n",
    "df['date'] = pd.to_datetime(df['date'])\n",
    "df['date'] = df['date'].map(lambda x: x.toordinal())  # Convertir fechas a ordinales\n",
    "# Truncar la columna decimal a enteros\n",
    "df['capacity'] = df['capacity'].astype(int)\n",
    "df"
   ]
  },
  {
   "cell_type": "code",
   "execution_count": 749,
   "metadata": {},
   "outputs": [
    {
     "name": "stdout",
     "output_type": "stream",
     "text": [
      "valores de x: ['film_code', 'cinema_code', 'show_time', 'occu_perc', 'capacity', 'date', 'month', 'quarter', 'day']\n",
      "valores de y: ['tickets_sold']\n"
     ]
    }
   ],
   "source": [
    "# Características y etiqueta\n",
    "X = ['film_code','cinema_code','show_time', 'occu_perc', 'capacity', 'date', 'month', 'quarter', 'day']\n",
    "y = ['tickets_sold']\n",
    "\n",
    "print('valores de x:',X)\n",
    "print('valores de y:',y)\n"
   ]
  },
  {
   "cell_type": "markdown",
   "metadata": {},
   "source": [
    "\n"
   ]
  },
  {
   "cell_type": "code",
   "execution_count": 750,
   "metadata": {},
   "outputs": [
    {
     "name": "stdout",
     "output_type": "stream",
     "text": [
      "Dataset Original:\n",
      "[[1.492e+03 3.040e+02 4.000e+00 ... 2.000e+00 5.000e+00 2.600e+01]\n",
      " [1.492e+03 3.520e+02 5.000e+00 ... 2.000e+00 5.000e+00 4.200e+01]\n",
      " [1.492e+03 4.890e+02 4.000e+00 ... 2.000e+00 5.000e+00 3.200e+01]\n",
      " ...\n",
      " [1.569e+03 5.240e+02 3.000e+00 ... 4.000e+00 4.000e+00 8.000e+00]\n",
      " [1.569e+03 5.290e+02 2.000e+00 ... 4.000e+00 4.000e+00 5.000e+00]\n",
      " [1.569e+03 4.860e+02 1.000e+00 ... 4.000e+00 4.000e+00 5.000e+00]]\n",
      "\n",
      "Dataset Estandarizado:\n",
      "[[-0.74588967 -0.10255142  0.0216292  ... -0.78435478 -1.24178213\n",
      "  -0.4082007 ]\n",
      " [-0.74588967  0.19810563  0.3487642  ... -0.78435478 -1.24178213\n",
      "  -0.35099823]\n",
      " [-0.74588967  1.05623094  0.0216292  ... -0.78435478 -1.24178213\n",
      "  -0.38674977]\n",
      " ...\n",
      " [ 1.38212067  1.27546004 -0.30550581 ...  1.68658315 -1.35353137\n",
      "  -0.47255348]\n",
      " [ 1.38212067  1.30677848 -0.63264081 ...  1.68658315 -1.35353137\n",
      "  -0.48327894]\n",
      " [ 1.38212067  1.03743988 -0.95977581 ...  1.68658315 -1.35353137\n",
      "  -0.48327894]]\n",
      "\n",
      "Dataset Escalado:\n",
      "[[1.77966102e-01 5.09363296e-01 5.08474576e-02 ... 3.33333333e-01\n",
      "  1.33333333e-01 2.94186867e-03]\n",
      " [1.77966102e-01 5.99250936e-01 6.77966102e-02 ... 3.33333333e-01\n",
      "  1.33333333e-01 4.82466463e-03]\n",
      " [1.77966102e-01 8.55805243e-01 5.08474576e-02 ... 3.33333333e-01\n",
      "  1.33333333e-01 3.64791716e-03]\n",
      " ...\n",
      " [8.30508475e-01 9.21348315e-01 3.38983051e-02 ... 1.00000000e+00\n",
      "  1.00000000e-01 8.23723229e-04]\n",
      " [8.30508475e-01 9.30711610e-01 1.69491525e-02 ... 1.00000000e+00\n",
      "  1.00000000e-01 4.70698988e-04]\n",
      " [8.30508475e-01 8.50187266e-01 0.00000000e+00 ... 1.00000000e+00\n",
      "  1.00000000e-01 4.70698988e-04]]\n"
     ]
    }
   ],
   "source": [
    "# Convertir DataFrame a matriz numpy\n",
    "dataset = df.values\n",
    "\n",
    "# Estandarización\n",
    "standard_scaler = StandardScaler()\n",
    "dataset_standardized = standard_scaler.fit_transform(dataset)\n",
    "\n",
    "# Escalado\n",
    "minmax_scaler = MinMaxScaler()\n",
    "dataset_scaled = minmax_scaler.fit_transform(dataset)\n",
    "\n",
    "# Mostrar resultados\n",
    "print('Dataset Original:')\n",
    "print(dataset)\n",
    "\n",
    "print('\\nDataset Estandarizado:')\n",
    "print(dataset_standardized)\n",
    "\n",
    "print('\\nDataset Escalado:')\n",
    "print(dataset_scaled)\n"
   ]
  },
  {
   "cell_type": "code",
   "execution_count": null,
   "metadata": {},
   "outputs": [],
   "source": [
    "\n",
    "\n"
   ]
  },
  {
   "cell_type": "code",
   "execution_count": null,
   "metadata": {},
   "outputs": [],
   "source": []
  },
  {
   "cell_type": "markdown",
   "metadata": {},
   "source": []
  },
  {
   "cell_type": "markdown",
   "metadata": {},
   "source": [
    "5. TRASNFORMACION DE DATOS \n",
    ">Normalización/Estándarización: Escalar datos para que estén en un rango o distribución específica.\n",
    "Codificación de Variables Categóricas: Convertir variables categóricas en variables numéricas (e.g., One-Hot Encoding).\n",
    "Transformación de Fechas: Extraer características de fechas como año, mes, día, etc.  "
   ]
  },
  {
   "cell_type": "markdown",
   "metadata": {},
   "source": [
    " aplico normalizacion con el metodo de:\n",
    " >Min-Max Scaling \n",
    "  Z-score\n",
    "\n",
    "  Estrategia: \n",
    "  No Normalizar: Identificadores y fechas.\n",
    "  Normalizar: Características numéricas continuas y rangos amplios."
   ]
  },
  {
   "cell_type": "code",
   "execution_count": 751,
   "metadata": {},
   "outputs": [],
   "source": [
    "#la data se divide en datos numericos y categoricos, puedo usar ambos sin embargo se sugiere\n",
    "#1. separar los tipos de datos\n",
    "#2. standarizar o normalizar Z-score y luego normalizar Min-Max[0,1]  \n"
   ]
  },
  {
   "cell_type": "code",
   "execution_count": null,
   "metadata": {},
   "outputs": [],
   "source": [
    "\n"
   ]
  },
  {
   "cell_type": "markdown",
   "metadata": {},
   "source": [
    "6. ALMACENAMOS EN UN ARRAY"
   ]
  },
  {
   "cell_type": "code",
   "execution_count": 752,
   "metadata": {},
   "outputs": [
    {
     "data": {
      "text/plain": [
       "array([[1.492e+03, 3.040e+02, 4.000e+00, ..., 2.000e+00, 5.000e+00,\n",
       "        2.600e+01],\n",
       "       [1.492e+03, 3.520e+02, 5.000e+00, ..., 2.000e+00, 5.000e+00,\n",
       "        4.200e+01],\n",
       "       [1.492e+03, 4.890e+02, 4.000e+00, ..., 2.000e+00, 5.000e+00,\n",
       "        3.200e+01],\n",
       "       ...,\n",
       "       [1.569e+03, 5.240e+02, 3.000e+00, ..., 4.000e+00, 4.000e+00,\n",
       "        8.000e+00],\n",
       "       [1.569e+03, 5.290e+02, 2.000e+00, ..., 4.000e+00, 4.000e+00,\n",
       "        5.000e+00],\n",
       "       [1.569e+03, 4.860e+02, 1.000e+00, ..., 4.000e+00, 4.000e+00,\n",
       "        5.000e+00]])"
      ]
     },
     "execution_count": 752,
     "metadata": {},
     "output_type": "execute_result"
    }
   ],
   "source": [
    "dataset = df.values\n",
    "dataset"
   ]
  },
  {
   "cell_type": "code",
   "execution_count": 753,
   "metadata": {},
   "outputs": [],
   "source": [
    "X = dataset[:,0:9] # todas las filas _:_ y 10 columnas   0:10\n",
    "Y  = dataset[:,9] # aignamos nuestra ultima columna de nuestra matriz a Y"
   ]
  },
  {
   "cell_type": "code",
   "execution_count": 754,
   "metadata": {},
   "outputs": [
    {
     "data": {
      "text/plain": [
       "array([[0.1779661 , 0.5093633 , 0.05084746, ..., 0.33333333, 0.33333333,\n",
       "        0.13333333],\n",
       "       [0.1779661 , 0.59925094, 0.06779661, ..., 0.33333333, 0.33333333,\n",
       "        0.13333333],\n",
       "       [0.1779661 , 0.85580524, 0.05084746, ..., 0.33333333, 0.33333333,\n",
       "        0.13333333],\n",
       "       ...,\n",
       "       [0.83050847, 0.92134831, 0.03389831, ..., 1.        , 1.        ,\n",
       "        0.1       ],\n",
       "       [0.83050847, 0.93071161, 0.01694915, ..., 1.        , 1.        ,\n",
       "        0.1       ],\n",
       "       [0.83050847, 0.85018727, 0.        , ..., 1.        , 1.        ,\n",
       "        0.1       ]])"
      ]
     },
     "execution_count": 754,
     "metadata": {},
     "output_type": "execute_result"
    }
   ],
   "source": [
    "from sklearn import preprocessing\n",
    "min_max_scaler = preprocessing.MinMaxScaler()\n",
    "X_scale = min_max_scaler.fit_transform(X)\n",
    "X_scale  "
   ]
  },
  {
   "cell_type": "code",
   "execution_count": 755,
   "metadata": {},
   "outputs": [
    {
     "name": "stdout",
     "output_type": "stream",
     "text": [
      "(99679, 9) (21360, 9) (21360, 9) (99679,) (21360,) (21360,)\n"
     ]
    }
   ],
   "source": [
    "from sklearn.model_selection import train_test_split\n",
    "X_train, X_val_and_test, Y_train, Y_val_and_test = train_test_split(X_scale, Y, test_size=0.3)\n",
    "X_val, X_test, Y_val, Y_test = train_test_split(X_val_and_test, Y_val_and_test, test_size=0.5)\n",
    "print(X_train.shape, X_val.shape, X_test.shape, Y_train.shape, Y_val.shape, Y_test.shape)\n",
    "\n",
    "#datos entrenamiento 99679\n",
    "#datos prueba 21360\n"
   ]
  },
  {
   "cell_type": "markdown",
   "metadata": {},
   "source": [
    "7.CONSTRUIR Y ENTRENAR EL MODELO\n"
   ]
  },
  {
   "cell_type": "code",
   "execution_count": 756,
   "metadata": {},
   "outputs": [
    {
     "name": "stdout",
     "output_type": "stream",
     "text": [
      "Epoch 1/100\n"
     ]
    },
    {
     "name": "stderr",
     "output_type": "stream",
     "text": [
      "c:\\Users\\julig\\anaconda3\\Lib\\site-packages\\keras\\src\\layers\\core\\dense.py:87: UserWarning: Do not pass an `input_shape`/`input_dim` argument to a layer. When using Sequential models, prefer using an `Input(shape)` object as the first layer in the model instead.\n",
      "  super().__init__(activity_regularizer=activity_regularizer, **kwargs)\n"
     ]
    },
    {
     "name": "stdout",
     "output_type": "stream",
     "text": [
      "\u001b[1m1558/1558\u001b[0m \u001b[32m━━━━━━━━━━━━━━━━━━━━\u001b[0m\u001b[37m\u001b[0m \u001b[1m3s\u001b[0m 1ms/step - loss: 85892.4062 - mae: 133.7320 - val_loss: 61810.3086 - val_mae: 122.2285\n",
      "Epoch 2/100\n",
      "\u001b[1m1558/1558\u001b[0m \u001b[32m━━━━━━━━━━━━━━━━━━━━\u001b[0m\u001b[37m\u001b[0m \u001b[1m2s\u001b[0m 1ms/step - loss: 56616.3359 - mae: 110.3880 - val_loss: 38358.3438 - val_mae: 90.4456\n",
      "Epoch 3/100\n",
      "\u001b[1m1558/1558\u001b[0m \u001b[32m━━━━━━━━━━━━━━━━━━━━\u001b[0m\u001b[37m\u001b[0m \u001b[1m2s\u001b[0m 1ms/step - loss: 38351.2305 - mae: 90.5247 - val_loss: 32822.5156 - val_mae: 83.6361\n",
      "Epoch 4/100\n",
      "\u001b[1m1558/1558\u001b[0m \u001b[32m━━━━━━━━━━━━━━━━━━━━\u001b[0m\u001b[37m\u001b[0m \u001b[1m2s\u001b[0m 1ms/step - loss: 32059.8965 - mae: 81.9661 - val_loss: 28458.8105 - val_mae: 78.4744\n",
      "Epoch 5/100\n",
      "\u001b[1m1558/1558\u001b[0m \u001b[32m━━━━━━━━━━━━━━━━━━━━\u001b[0m\u001b[37m\u001b[0m \u001b[1m2s\u001b[0m 1ms/step - loss: 26280.0898 - mae: 76.1413 - val_loss: 24807.0996 - val_mae: 75.0335\n",
      "Epoch 6/100\n",
      "\u001b[1m 965/1558\u001b[0m \u001b[32m━━━━━━━━━━━━\u001b[0m\u001b[37m━━━━━━━━\u001b[0m \u001b[1m0s\u001b[0m 998us/step - loss: 24673.5156 - mae: 73.0167 "
     ]
    },
    {
     "ename": "KeyboardInterrupt",
     "evalue": "",
     "output_type": "error",
     "traceback": [
      "\u001b[1;31m---------------------------------------------------------------------------\u001b[0m",
      "\u001b[1;31mKeyboardInterrupt\u001b[0m                         Traceback (most recent call last)",
      "Cell \u001b[1;32mIn[756], line 17\u001b[0m\n\u001b[0;32m      7\u001b[0m model \u001b[38;5;241m=\u001b[39m Sequential([\n\u001b[0;32m      8\u001b[0m     Dense(\u001b[38;5;241m12\u001b[39m, activation\u001b[38;5;241m=\u001b[39m\u001b[38;5;124m'\u001b[39m\u001b[38;5;124mrelu\u001b[39m\u001b[38;5;124m'\u001b[39m, input_shape\u001b[38;5;241m=\u001b[39m(\u001b[38;5;241m9\u001b[39m,)),\n\u001b[0;32m      9\u001b[0m     Dense(\u001b[38;5;241m6\u001b[39m, activation\u001b[38;5;241m=\u001b[39m\u001b[38;5;124m'\u001b[39m\u001b[38;5;124mrelu\u001b[39m\u001b[38;5;124m'\u001b[39m),\n\u001b[0;32m     10\u001b[0m     Dense(\u001b[38;5;241m1\u001b[39m, activation\u001b[38;5;241m=\u001b[39m\u001b[38;5;124m'\u001b[39m\u001b[38;5;124mlinear\u001b[39m\u001b[38;5;124m'\u001b[39m)  \u001b[38;5;66;03m# activation='linear -> regreseion  /  activation='sigmoid' -> clasificación binaria\u001b[39;00m\n\u001b[0;32m     11\u001b[0m ])\n\u001b[0;32m     13\u001b[0m model\u001b[38;5;241m.\u001b[39mcompile(optimizer \u001b[38;5;241m=\u001b[39m \u001b[38;5;124m'\u001b[39m\u001b[38;5;124madam\u001b[39m\u001b[38;5;124m'\u001b[39m, \u001b[38;5;66;03m#sgd es valido pero adam converge mas rapido\u001b[39;00m\n\u001b[0;32m     14\u001b[0m               loss\u001b[38;5;241m=\u001b[39m\u001b[38;5;124m'\u001b[39m\u001b[38;5;124mmse\u001b[39m\u001b[38;5;124m'\u001b[39m,       \u001b[38;5;66;03m#regresion usar  mse\u001b[39;00m\n\u001b[0;32m     15\u001b[0m               metrics\u001b[38;5;241m=\u001b[39m[\u001b[38;5;124m'\u001b[39m\u001b[38;5;124mmae\u001b[39m\u001b[38;5;124m'\u001b[39m])  \n\u001b[1;32m---> 17\u001b[0m hist \u001b[38;5;241m=\u001b[39m model\u001b[38;5;241m.\u001b[39mfit(X_train, Y_train,\n\u001b[0;32m     18\u001b[0m           batch_size\u001b[38;5;241m=\u001b[39m\u001b[38;5;241m64\u001b[39m, \n\u001b[0;32m     19\u001b[0m           epochs\u001b[38;5;241m=\u001b[39m\u001b[38;5;241m100\u001b[39m,\n\u001b[0;32m     20\u001b[0m           validation_data \u001b[38;5;241m=\u001b[39m(X_val, Y_val)\n\u001b[0;32m     21\u001b[0m \n\u001b[0;32m     22\u001b[0m           )\n\u001b[0;32m     25\u001b[0m \u001b[38;5;66;03m#evaluando el modelo\u001b[39;00m\n\u001b[0;32m     26\u001b[0m model\u001b[38;5;241m.\u001b[39mevaluate(X_test, Y_test)\n",
      "File \u001b[1;32mc:\\Users\\julig\\anaconda3\\Lib\\site-packages\\keras\\src\\utils\\traceback_utils.py:117\u001b[0m, in \u001b[0;36mfilter_traceback.<locals>.error_handler\u001b[1;34m(*args, **kwargs)\u001b[0m\n\u001b[0;32m    115\u001b[0m filtered_tb \u001b[38;5;241m=\u001b[39m \u001b[38;5;28;01mNone\u001b[39;00m\n\u001b[0;32m    116\u001b[0m \u001b[38;5;28;01mtry\u001b[39;00m:\n\u001b[1;32m--> 117\u001b[0m     \u001b[38;5;28;01mreturn\u001b[39;00m fn(\u001b[38;5;241m*\u001b[39margs, \u001b[38;5;241m*\u001b[39m\u001b[38;5;241m*\u001b[39mkwargs)\n\u001b[0;32m    118\u001b[0m \u001b[38;5;28;01mexcept\u001b[39;00m \u001b[38;5;167;01mException\u001b[39;00m \u001b[38;5;28;01mas\u001b[39;00m e:\n\u001b[0;32m    119\u001b[0m     filtered_tb \u001b[38;5;241m=\u001b[39m _process_traceback_frames(e\u001b[38;5;241m.\u001b[39m__traceback__)\n",
      "File \u001b[1;32mc:\\Users\\julig\\anaconda3\\Lib\\site-packages\\keras\\src\\backend\\tensorflow\\trainer.py:320\u001b[0m, in \u001b[0;36mTensorFlowTrainer.fit\u001b[1;34m(self, x, y, batch_size, epochs, verbose, callbacks, validation_split, validation_data, shuffle, class_weight, sample_weight, initial_epoch, steps_per_epoch, validation_steps, validation_batch_size, validation_freq)\u001b[0m\n\u001b[0;32m    318\u001b[0m \u001b[38;5;28;01mfor\u001b[39;00m step, iterator \u001b[38;5;129;01min\u001b[39;00m epoch_iterator\u001b[38;5;241m.\u001b[39menumerate_epoch():\n\u001b[0;32m    319\u001b[0m     callbacks\u001b[38;5;241m.\u001b[39mon_train_batch_begin(step)\n\u001b[1;32m--> 320\u001b[0m     logs \u001b[38;5;241m=\u001b[39m \u001b[38;5;28mself\u001b[39m\u001b[38;5;241m.\u001b[39mtrain_function(iterator)\n\u001b[0;32m    321\u001b[0m     logs \u001b[38;5;241m=\u001b[39m \u001b[38;5;28mself\u001b[39m\u001b[38;5;241m.\u001b[39m_pythonify_logs(logs)\n\u001b[0;32m    322\u001b[0m     callbacks\u001b[38;5;241m.\u001b[39mon_train_batch_end(step, logs)\n",
      "File \u001b[1;32mc:\\Users\\julig\\anaconda3\\Lib\\site-packages\\tensorflow\\python\\util\\traceback_utils.py:150\u001b[0m, in \u001b[0;36mfilter_traceback.<locals>.error_handler\u001b[1;34m(*args, **kwargs)\u001b[0m\n\u001b[0;32m    148\u001b[0m filtered_tb \u001b[38;5;241m=\u001b[39m \u001b[38;5;28;01mNone\u001b[39;00m\n\u001b[0;32m    149\u001b[0m \u001b[38;5;28;01mtry\u001b[39;00m:\n\u001b[1;32m--> 150\u001b[0m   \u001b[38;5;28;01mreturn\u001b[39;00m fn(\u001b[38;5;241m*\u001b[39margs, \u001b[38;5;241m*\u001b[39m\u001b[38;5;241m*\u001b[39mkwargs)\n\u001b[0;32m    151\u001b[0m \u001b[38;5;28;01mexcept\u001b[39;00m \u001b[38;5;167;01mException\u001b[39;00m \u001b[38;5;28;01mas\u001b[39;00m e:\n\u001b[0;32m    152\u001b[0m   filtered_tb \u001b[38;5;241m=\u001b[39m _process_traceback_frames(e\u001b[38;5;241m.\u001b[39m__traceback__)\n",
      "File \u001b[1;32mc:\\Users\\julig\\anaconda3\\Lib\\site-packages\\tensorflow\\python\\eager\\polymorphic_function\\polymorphic_function.py:833\u001b[0m, in \u001b[0;36mFunction.__call__\u001b[1;34m(self, *args, **kwds)\u001b[0m\n\u001b[0;32m    830\u001b[0m compiler \u001b[38;5;241m=\u001b[39m \u001b[38;5;124m\"\u001b[39m\u001b[38;5;124mxla\u001b[39m\u001b[38;5;124m\"\u001b[39m \u001b[38;5;28;01mif\u001b[39;00m \u001b[38;5;28mself\u001b[39m\u001b[38;5;241m.\u001b[39m_jit_compile \u001b[38;5;28;01melse\u001b[39;00m \u001b[38;5;124m\"\u001b[39m\u001b[38;5;124mnonXla\u001b[39m\u001b[38;5;124m\"\u001b[39m\n\u001b[0;32m    832\u001b[0m \u001b[38;5;28;01mwith\u001b[39;00m OptionalXlaContext(\u001b[38;5;28mself\u001b[39m\u001b[38;5;241m.\u001b[39m_jit_compile):\n\u001b[1;32m--> 833\u001b[0m   result \u001b[38;5;241m=\u001b[39m \u001b[38;5;28mself\u001b[39m\u001b[38;5;241m.\u001b[39m_call(\u001b[38;5;241m*\u001b[39margs, \u001b[38;5;241m*\u001b[39m\u001b[38;5;241m*\u001b[39mkwds)\n\u001b[0;32m    835\u001b[0m new_tracing_count \u001b[38;5;241m=\u001b[39m \u001b[38;5;28mself\u001b[39m\u001b[38;5;241m.\u001b[39mexperimental_get_tracing_count()\n\u001b[0;32m    836\u001b[0m without_tracing \u001b[38;5;241m=\u001b[39m (tracing_count \u001b[38;5;241m==\u001b[39m new_tracing_count)\n",
      "File \u001b[1;32mc:\\Users\\julig\\anaconda3\\Lib\\site-packages\\tensorflow\\python\\eager\\polymorphic_function\\polymorphic_function.py:878\u001b[0m, in \u001b[0;36mFunction._call\u001b[1;34m(self, *args, **kwds)\u001b[0m\n\u001b[0;32m    875\u001b[0m \u001b[38;5;28mself\u001b[39m\u001b[38;5;241m.\u001b[39m_lock\u001b[38;5;241m.\u001b[39mrelease()\n\u001b[0;32m    876\u001b[0m \u001b[38;5;66;03m# In this case we have not created variables on the first call. So we can\u001b[39;00m\n\u001b[0;32m    877\u001b[0m \u001b[38;5;66;03m# run the first trace but we should fail if variables are created.\u001b[39;00m\n\u001b[1;32m--> 878\u001b[0m results \u001b[38;5;241m=\u001b[39m tracing_compilation\u001b[38;5;241m.\u001b[39mcall_function(\n\u001b[0;32m    879\u001b[0m     args, kwds, \u001b[38;5;28mself\u001b[39m\u001b[38;5;241m.\u001b[39m_variable_creation_config\n\u001b[0;32m    880\u001b[0m )\n\u001b[0;32m    881\u001b[0m \u001b[38;5;28;01mif\u001b[39;00m \u001b[38;5;28mself\u001b[39m\u001b[38;5;241m.\u001b[39m_created_variables:\n\u001b[0;32m    882\u001b[0m   \u001b[38;5;28;01mraise\u001b[39;00m \u001b[38;5;167;01mValueError\u001b[39;00m(\u001b[38;5;124m\"\u001b[39m\u001b[38;5;124mCreating variables on a non-first call to a function\u001b[39m\u001b[38;5;124m\"\u001b[39m\n\u001b[0;32m    883\u001b[0m                    \u001b[38;5;124m\"\u001b[39m\u001b[38;5;124m decorated with tf.function.\u001b[39m\u001b[38;5;124m\"\u001b[39m)\n",
      "File \u001b[1;32mc:\\Users\\julig\\anaconda3\\Lib\\site-packages\\tensorflow\\python\\eager\\polymorphic_function\\tracing_compilation.py:139\u001b[0m, in \u001b[0;36mcall_function\u001b[1;34m(args, kwargs, tracing_options)\u001b[0m\n\u001b[0;32m    137\u001b[0m bound_args \u001b[38;5;241m=\u001b[39m function\u001b[38;5;241m.\u001b[39mfunction_type\u001b[38;5;241m.\u001b[39mbind(\u001b[38;5;241m*\u001b[39margs, \u001b[38;5;241m*\u001b[39m\u001b[38;5;241m*\u001b[39mkwargs)\n\u001b[0;32m    138\u001b[0m flat_inputs \u001b[38;5;241m=\u001b[39m function\u001b[38;5;241m.\u001b[39mfunction_type\u001b[38;5;241m.\u001b[39munpack_inputs(bound_args)\n\u001b[1;32m--> 139\u001b[0m \u001b[38;5;28;01mreturn\u001b[39;00m function\u001b[38;5;241m.\u001b[39m_call_flat(  \u001b[38;5;66;03m# pylint: disable=protected-access\u001b[39;00m\n\u001b[0;32m    140\u001b[0m     flat_inputs, captured_inputs\u001b[38;5;241m=\u001b[39mfunction\u001b[38;5;241m.\u001b[39mcaptured_inputs\n\u001b[0;32m    141\u001b[0m )\n",
      "File \u001b[1;32mc:\\Users\\julig\\anaconda3\\Lib\\site-packages\\tensorflow\\python\\eager\\polymorphic_function\\concrete_function.py:1322\u001b[0m, in \u001b[0;36mConcreteFunction._call_flat\u001b[1;34m(self, tensor_inputs, captured_inputs)\u001b[0m\n\u001b[0;32m   1318\u001b[0m possible_gradient_type \u001b[38;5;241m=\u001b[39m gradients_util\u001b[38;5;241m.\u001b[39mPossibleTapeGradientTypes(args)\n\u001b[0;32m   1319\u001b[0m \u001b[38;5;28;01mif\u001b[39;00m (possible_gradient_type \u001b[38;5;241m==\u001b[39m gradients_util\u001b[38;5;241m.\u001b[39mPOSSIBLE_GRADIENT_TYPES_NONE\n\u001b[0;32m   1320\u001b[0m     \u001b[38;5;129;01mand\u001b[39;00m executing_eagerly):\n\u001b[0;32m   1321\u001b[0m   \u001b[38;5;66;03m# No tape is watching; skip to running the function.\u001b[39;00m\n\u001b[1;32m-> 1322\u001b[0m   \u001b[38;5;28;01mreturn\u001b[39;00m \u001b[38;5;28mself\u001b[39m\u001b[38;5;241m.\u001b[39m_inference_function\u001b[38;5;241m.\u001b[39mcall_preflattened(args)\n\u001b[0;32m   1323\u001b[0m forward_backward \u001b[38;5;241m=\u001b[39m \u001b[38;5;28mself\u001b[39m\u001b[38;5;241m.\u001b[39m_select_forward_and_backward_functions(\n\u001b[0;32m   1324\u001b[0m     args,\n\u001b[0;32m   1325\u001b[0m     possible_gradient_type,\n\u001b[0;32m   1326\u001b[0m     executing_eagerly)\n\u001b[0;32m   1327\u001b[0m forward_function, args_with_tangents \u001b[38;5;241m=\u001b[39m forward_backward\u001b[38;5;241m.\u001b[39mforward()\n",
      "File \u001b[1;32mc:\\Users\\julig\\anaconda3\\Lib\\site-packages\\tensorflow\\python\\eager\\polymorphic_function\\atomic_function.py:216\u001b[0m, in \u001b[0;36mAtomicFunction.call_preflattened\u001b[1;34m(self, args)\u001b[0m\n\u001b[0;32m    214\u001b[0m \u001b[38;5;28;01mdef\u001b[39;00m \u001b[38;5;21mcall_preflattened\u001b[39m(\u001b[38;5;28mself\u001b[39m, args: Sequence[core\u001b[38;5;241m.\u001b[39mTensor]) \u001b[38;5;241m-\u001b[39m\u001b[38;5;241m>\u001b[39m Any:\n\u001b[0;32m    215\u001b[0m \u001b[38;5;250m  \u001b[39m\u001b[38;5;124;03m\"\"\"Calls with flattened tensor inputs and returns the structured output.\"\"\"\u001b[39;00m\n\u001b[1;32m--> 216\u001b[0m   flat_outputs \u001b[38;5;241m=\u001b[39m \u001b[38;5;28mself\u001b[39m\u001b[38;5;241m.\u001b[39mcall_flat(\u001b[38;5;241m*\u001b[39margs)\n\u001b[0;32m    217\u001b[0m   \u001b[38;5;28;01mreturn\u001b[39;00m \u001b[38;5;28mself\u001b[39m\u001b[38;5;241m.\u001b[39mfunction_type\u001b[38;5;241m.\u001b[39mpack_output(flat_outputs)\n",
      "File \u001b[1;32mc:\\Users\\julig\\anaconda3\\Lib\\site-packages\\tensorflow\\python\\eager\\polymorphic_function\\atomic_function.py:251\u001b[0m, in \u001b[0;36mAtomicFunction.call_flat\u001b[1;34m(self, *args)\u001b[0m\n\u001b[0;32m    249\u001b[0m \u001b[38;5;28;01mwith\u001b[39;00m record\u001b[38;5;241m.\u001b[39mstop_recording():\n\u001b[0;32m    250\u001b[0m   \u001b[38;5;28;01mif\u001b[39;00m \u001b[38;5;28mself\u001b[39m\u001b[38;5;241m.\u001b[39m_bound_context\u001b[38;5;241m.\u001b[39mexecuting_eagerly():\n\u001b[1;32m--> 251\u001b[0m     outputs \u001b[38;5;241m=\u001b[39m \u001b[38;5;28mself\u001b[39m\u001b[38;5;241m.\u001b[39m_bound_context\u001b[38;5;241m.\u001b[39mcall_function(\n\u001b[0;32m    252\u001b[0m         \u001b[38;5;28mself\u001b[39m\u001b[38;5;241m.\u001b[39mname,\n\u001b[0;32m    253\u001b[0m         \u001b[38;5;28mlist\u001b[39m(args),\n\u001b[0;32m    254\u001b[0m         \u001b[38;5;28mlen\u001b[39m(\u001b[38;5;28mself\u001b[39m\u001b[38;5;241m.\u001b[39mfunction_type\u001b[38;5;241m.\u001b[39mflat_outputs),\n\u001b[0;32m    255\u001b[0m     )\n\u001b[0;32m    256\u001b[0m   \u001b[38;5;28;01melse\u001b[39;00m:\n\u001b[0;32m    257\u001b[0m     outputs \u001b[38;5;241m=\u001b[39m make_call_op_in_graph(\n\u001b[0;32m    258\u001b[0m         \u001b[38;5;28mself\u001b[39m,\n\u001b[0;32m    259\u001b[0m         \u001b[38;5;28mlist\u001b[39m(args),\n\u001b[0;32m    260\u001b[0m         \u001b[38;5;28mself\u001b[39m\u001b[38;5;241m.\u001b[39m_bound_context\u001b[38;5;241m.\u001b[39mfunction_call_options\u001b[38;5;241m.\u001b[39mas_attrs(),\n\u001b[0;32m    261\u001b[0m     )\n",
      "File \u001b[1;32mc:\\Users\\julig\\anaconda3\\Lib\\site-packages\\tensorflow\\python\\eager\\context.py:1552\u001b[0m, in \u001b[0;36mContext.call_function\u001b[1;34m(self, name, tensor_inputs, num_outputs)\u001b[0m\n\u001b[0;32m   1550\u001b[0m cancellation_context \u001b[38;5;241m=\u001b[39m cancellation\u001b[38;5;241m.\u001b[39mcontext()\n\u001b[0;32m   1551\u001b[0m \u001b[38;5;28;01mif\u001b[39;00m cancellation_context \u001b[38;5;129;01mis\u001b[39;00m \u001b[38;5;28;01mNone\u001b[39;00m:\n\u001b[1;32m-> 1552\u001b[0m   outputs \u001b[38;5;241m=\u001b[39m execute\u001b[38;5;241m.\u001b[39mexecute(\n\u001b[0;32m   1553\u001b[0m       name\u001b[38;5;241m.\u001b[39mdecode(\u001b[38;5;124m\"\u001b[39m\u001b[38;5;124mutf-8\u001b[39m\u001b[38;5;124m\"\u001b[39m),\n\u001b[0;32m   1554\u001b[0m       num_outputs\u001b[38;5;241m=\u001b[39mnum_outputs,\n\u001b[0;32m   1555\u001b[0m       inputs\u001b[38;5;241m=\u001b[39mtensor_inputs,\n\u001b[0;32m   1556\u001b[0m       attrs\u001b[38;5;241m=\u001b[39mattrs,\n\u001b[0;32m   1557\u001b[0m       ctx\u001b[38;5;241m=\u001b[39m\u001b[38;5;28mself\u001b[39m,\n\u001b[0;32m   1558\u001b[0m   )\n\u001b[0;32m   1559\u001b[0m \u001b[38;5;28;01melse\u001b[39;00m:\n\u001b[0;32m   1560\u001b[0m   outputs \u001b[38;5;241m=\u001b[39m execute\u001b[38;5;241m.\u001b[39mexecute_with_cancellation(\n\u001b[0;32m   1561\u001b[0m       name\u001b[38;5;241m.\u001b[39mdecode(\u001b[38;5;124m\"\u001b[39m\u001b[38;5;124mutf-8\u001b[39m\u001b[38;5;124m\"\u001b[39m),\n\u001b[0;32m   1562\u001b[0m       num_outputs\u001b[38;5;241m=\u001b[39mnum_outputs,\n\u001b[1;32m   (...)\u001b[0m\n\u001b[0;32m   1566\u001b[0m       cancellation_manager\u001b[38;5;241m=\u001b[39mcancellation_context,\n\u001b[0;32m   1567\u001b[0m   )\n",
      "File \u001b[1;32mc:\\Users\\julig\\anaconda3\\Lib\\site-packages\\tensorflow\\python\\eager\\execute.py:53\u001b[0m, in \u001b[0;36mquick_execute\u001b[1;34m(op_name, num_outputs, inputs, attrs, ctx, name)\u001b[0m\n\u001b[0;32m     51\u001b[0m \u001b[38;5;28;01mtry\u001b[39;00m:\n\u001b[0;32m     52\u001b[0m   ctx\u001b[38;5;241m.\u001b[39mensure_initialized()\n\u001b[1;32m---> 53\u001b[0m   tensors \u001b[38;5;241m=\u001b[39m pywrap_tfe\u001b[38;5;241m.\u001b[39mTFE_Py_Execute(ctx\u001b[38;5;241m.\u001b[39m_handle, device_name, op_name,\n\u001b[0;32m     54\u001b[0m                                       inputs, attrs, num_outputs)\n\u001b[0;32m     55\u001b[0m \u001b[38;5;28;01mexcept\u001b[39;00m core\u001b[38;5;241m.\u001b[39m_NotOkStatusException \u001b[38;5;28;01mas\u001b[39;00m e:\n\u001b[0;32m     56\u001b[0m   \u001b[38;5;28;01mif\u001b[39;00m name \u001b[38;5;129;01mis\u001b[39;00m \u001b[38;5;129;01mnot\u001b[39;00m \u001b[38;5;28;01mNone\u001b[39;00m:\n",
      "\u001b[1;31mKeyboardInterrupt\u001b[0m: "
     ]
    }
   ],
   "source": [
    "from keras.models import Sequential\n",
    "from keras.layers import Dense\n",
    "#usa tensor flow en el backend\n",
    "\n",
    "from keras.callbacks import EarlyStopping\n",
    "\n",
    "\n",
    "model = Sequential([\n",
    "    Dense(12, activation='relu', input_shape=(9,)),\n",
    "    Dense(6, activation='relu'),\n",
    "    Dense(1, activation='linear')  # activation='linear -> regreseion  /  activation='sigmoid' -> clasificación binaria\n",
    "])\n",
    "\n",
    "model.compile(optimizer = 'adam', #sgd es valido pero adam converge mas rapido\n",
    "              loss='mse',       #regresion usar  mse\n",
    "              metrics=['mae'])  \n",
    "\n",
    "hist = model.fit(X_train, Y_train,\n",
    "          batch_size=64, \n",
    "          epochs=100,\n",
    "          validation_data =(X_val, Y_val),\n",
    "          callbacks=[early_stopping])\n",
    "         # )\n",
    "          \n",
    "\n",
    "#evaluando el modelo\n",
    "model.evaluate(X_test, Y_test)\n",
    "\n",
    "\n",
    "\n"
   ]
  },
  {
   "cell_type": "markdown",
   "metadata": {},
   "source": [
    "\n",
    "\n",
    "\n"
   ]
  },
  {
   "cell_type": "code",
   "execution_count": null,
   "metadata": {},
   "outputs": [
    {
     "data": {
      "image/png": "[encoded data removed]",
      "text/plain": [
       "<Figure size 640x480 with 1 Axes>"
      ]
     },
     "metadata": {},
     "output_type": "display_data"
    }
   ],
   "source": [
    "import matplotlib.pyplot as plt\n",
    "\n",
    "plt.plot(hist.history['loss'])\n",
    "plt.plot(hist.history['val_loss'])\n",
    "plt.title('Model loss')\n",
    "plt.ylabel('Loss')\n",
    "plt.xlabel('Epoch')\n",
    "plt.legend(['Train','Val'], loc='upper right')\n",
    "plt.show()\n"
   ]
  },
  {
   "cell_type": "markdown",
   "metadata": {},
   "source": [
    "8. Adicionar regularizacion "
   ]
  },
  {
   "cell_type": "code",
   "execution_count": null,
   "metadata": {},
   "outputs": [
    {
     "name": "stdout",
     "output_type": "stream",
     "text": [
      "Epoch 1/15\n"
     ]
    },
    {
     "ename": "ValueError",
     "evalue": "Exception encountered when calling Sequential.call().\n\n\u001b[1mInput 0 of layer \"dense_111\" is incompatible with the layer: expected axis -1 of input shape to have value 12, but received input with shape (None, 9)\u001b[0m\n\nArguments received by Sequential.call():\n  • inputs=tf.Tensor(shape=(None, 9), dtype=float32)\n  • training=True\n  • mask=None",
     "output_type": "error",
     "traceback": [
      "\u001b[1;31m---------------------------------------------------------------------------\u001b[0m",
      "\u001b[1;31mValueError\u001b[0m                                Traceback (most recent call last)",
      "Cell \u001b[1;32mIn[715], line 5\u001b[0m\n\u001b[0;32m      1\u001b[0m model_2 \u001b[38;5;241m=\u001b[39m Sequential([Dense(\u001b[38;5;241m100\u001b[39m, activation\u001b[38;5;241m=\u001b[39m\u001b[38;5;124m'\u001b[39m\u001b[38;5;124mrelu\u001b[39m\u001b[38;5;124m'\u001b[39m, input_shape\u001b[38;5;241m=\u001b[39m(\u001b[38;5;241m12\u001b[39m,)),Dense(\u001b[38;5;241m100\u001b[39m, activation\u001b[38;5;241m=\u001b[39m\u001b[38;5;124m'\u001b[39m\u001b[38;5;124mrelu\u001b[39m\u001b[38;5;124m'\u001b[39m),Dense(\u001b[38;5;241m100\u001b[39m, activation\u001b[38;5;241m=\u001b[39m\u001b[38;5;124m'\u001b[39m\u001b[38;5;124mrelu\u001b[39m\u001b[38;5;124m'\u001b[39m),Dense(\u001b[38;5;241m100\u001b[39m, activation\u001b[38;5;241m=\u001b[39m\u001b[38;5;124m'\u001b[39m\u001b[38;5;124mrelu\u001b[39m\u001b[38;5;124m'\u001b[39m),Dense(\u001b[38;5;241m1\u001b[39m, activation\u001b[38;5;241m=\u001b[39m\u001b[38;5;124m'\u001b[39m\u001b[38;5;124msigmoid\u001b[39m\u001b[38;5;124m'\u001b[39m),])\n\u001b[0;32m      2\u001b[0m model_2\u001b[38;5;241m.\u001b[39mcompile(optimizer\u001b[38;5;241m=\u001b[39m\u001b[38;5;124m'\u001b[39m\u001b[38;5;124madam\u001b[39m\u001b[38;5;124m'\u001b[39m,loss\u001b[38;5;241m=\u001b[39m\u001b[38;5;124m'\u001b[39m\u001b[38;5;124mbinary_crossentropy\u001b[39m\u001b[38;5;124m'\u001b[39m,metrics\u001b[38;5;241m=\u001b[39m[\u001b[38;5;124m'\u001b[39m\u001b[38;5;124maccuracy\u001b[39m\u001b[38;5;124m'\u001b[39m])\n\u001b[1;32m----> 5\u001b[0m hist_2 \u001b[38;5;241m=\u001b[39m model_2\u001b[38;5;241m.\u001b[39mfit(X_train, Y_train,batch_size\u001b[38;5;241m=\u001b[39m\u001b[38;5;241m32\u001b[39m, epochs\u001b[38;5;241m=\u001b[39m\u001b[38;5;241m15\u001b[39m,validation_data\u001b[38;5;241m=\u001b[39m(X_val, Y_val))\n\u001b[0;32m      6\u001b[0m plt\u001b[38;5;241m.\u001b[39mplot(hist_2\u001b[38;5;241m.\u001b[39mhistory[\u001b[38;5;124m'\u001b[39m\u001b[38;5;124mloss\u001b[39m\u001b[38;5;124m'\u001b[39m])\n\u001b[0;32m      7\u001b[0m plt\u001b[38;5;241m.\u001b[39mplot(hist_2\u001b[38;5;241m.\u001b[39mhistory[\u001b[38;5;124m'\u001b[39m\u001b[38;5;124mval_loss\u001b[39m\u001b[38;5;124m'\u001b[39m])\n",
      "File \u001b[1;32mc:\\Users\\julig\\anaconda3\\Lib\\site-packages\\keras\\src\\utils\\traceback_utils.py:122\u001b[0m, in \u001b[0;36mfilter_traceback.<locals>.error_handler\u001b[1;34m(*args, **kwargs)\u001b[0m\n\u001b[0;32m    119\u001b[0m     filtered_tb \u001b[38;5;241m=\u001b[39m _process_traceback_frames(e\u001b[38;5;241m.\u001b[39m__traceback__)\n\u001b[0;32m    120\u001b[0m     \u001b[38;5;66;03m# To get the full stack trace, call:\u001b[39;00m\n\u001b[0;32m    121\u001b[0m     \u001b[38;5;66;03m# `keras.config.disable_traceback_filtering()`\u001b[39;00m\n\u001b[1;32m--> 122\u001b[0m     \u001b[38;5;28;01mraise\u001b[39;00m e\u001b[38;5;241m.\u001b[39mwith_traceback(filtered_tb) \u001b[38;5;28;01mfrom\u001b[39;00m \u001b[38;5;28;01mNone\u001b[39;00m\n\u001b[0;32m    123\u001b[0m \u001b[38;5;28;01mfinally\u001b[39;00m:\n\u001b[0;32m    124\u001b[0m     \u001b[38;5;28;01mdel\u001b[39;00m filtered_tb\n",
      "File \u001b[1;32mc:\\Users\\julig\\anaconda3\\Lib\\site-packages\\keras\\src\\layers\\input_spec.py:227\u001b[0m, in \u001b[0;36massert_input_compatibility\u001b[1;34m(input_spec, inputs, layer_name)\u001b[0m\n\u001b[0;32m    222\u001b[0m     \u001b[38;5;28;01mfor\u001b[39;00m axis, value \u001b[38;5;129;01min\u001b[39;00m spec\u001b[38;5;241m.\u001b[39maxes\u001b[38;5;241m.\u001b[39mitems():\n\u001b[0;32m    223\u001b[0m         \u001b[38;5;28;01mif\u001b[39;00m value \u001b[38;5;129;01mis\u001b[39;00m \u001b[38;5;129;01mnot\u001b[39;00m \u001b[38;5;28;01mNone\u001b[39;00m \u001b[38;5;129;01mand\u001b[39;00m shape[axis] \u001b[38;5;129;01mnot\u001b[39;00m \u001b[38;5;129;01min\u001b[39;00m {\n\u001b[0;32m    224\u001b[0m             value,\n\u001b[0;32m    225\u001b[0m             \u001b[38;5;28;01mNone\u001b[39;00m,\n\u001b[0;32m    226\u001b[0m         }:\n\u001b[1;32m--> 227\u001b[0m             \u001b[38;5;28;01mraise\u001b[39;00m \u001b[38;5;167;01mValueError\u001b[39;00m(\n\u001b[0;32m    228\u001b[0m                 \u001b[38;5;124mf\u001b[39m\u001b[38;5;124m'\u001b[39m\u001b[38;5;124mInput \u001b[39m\u001b[38;5;132;01m{\u001b[39;00minput_index\u001b[38;5;132;01m}\u001b[39;00m\u001b[38;5;124m of layer \u001b[39m\u001b[38;5;124m\"\u001b[39m\u001b[38;5;132;01m{\u001b[39;00mlayer_name\u001b[38;5;132;01m}\u001b[39;00m\u001b[38;5;124m\"\u001b[39m\u001b[38;5;124m is \u001b[39m\u001b[38;5;124m'\u001b[39m\n\u001b[0;32m    229\u001b[0m                 \u001b[38;5;124mf\u001b[39m\u001b[38;5;124m\"\u001b[39m\u001b[38;5;124mincompatible with the layer: expected axis \u001b[39m\u001b[38;5;132;01m{\u001b[39;00maxis\u001b[38;5;132;01m}\u001b[39;00m\u001b[38;5;124m \u001b[39m\u001b[38;5;124m\"\u001b[39m\n\u001b[0;32m    230\u001b[0m                 \u001b[38;5;124mf\u001b[39m\u001b[38;5;124m\"\u001b[39m\u001b[38;5;124mof input shape to have value \u001b[39m\u001b[38;5;132;01m{\u001b[39;00mvalue\u001b[38;5;132;01m}\u001b[39;00m\u001b[38;5;124m, \u001b[39m\u001b[38;5;124m\"\u001b[39m\n\u001b[0;32m    231\u001b[0m                 \u001b[38;5;124m\"\u001b[39m\u001b[38;5;124mbut received input with \u001b[39m\u001b[38;5;124m\"\u001b[39m\n\u001b[0;32m    232\u001b[0m                 \u001b[38;5;124mf\u001b[39m\u001b[38;5;124m\"\u001b[39m\u001b[38;5;124mshape \u001b[39m\u001b[38;5;132;01m{\u001b[39;00mshape\u001b[38;5;132;01m}\u001b[39;00m\u001b[38;5;124m\"\u001b[39m\n\u001b[0;32m    233\u001b[0m             )\n\u001b[0;32m    234\u001b[0m \u001b[38;5;66;03m# Check shape.\u001b[39;00m\n\u001b[0;32m    235\u001b[0m \u001b[38;5;28;01mif\u001b[39;00m spec\u001b[38;5;241m.\u001b[39mshape \u001b[38;5;129;01mis\u001b[39;00m \u001b[38;5;129;01mnot\u001b[39;00m \u001b[38;5;28;01mNone\u001b[39;00m:\n",
      "\u001b[1;31mValueError\u001b[0m: Exception encountered when calling Sequential.call().\n\n\u001b[1mInput 0 of layer \"dense_111\" is incompatible with the layer: expected axis -1 of input shape to have value 12, but received input with shape (None, 9)\u001b[0m\n\nArguments received by Sequential.call():\n  • inputs=tf.Tensor(shape=(None, 9), dtype=float32)\n  • training=True\n  • mask=None"
     ]
    }
   ],
   "source": [
    "model_2 = Sequential([Dense(100, activation='relu', input_shape=(12,)),Dense(100, activation='relu'),Dense(100, activation='relu'),Dense(100, activation='relu'),Dense(1, activation='sigmoid'),])\n",
    "model_2.compile(optimizer='adam',loss='binary_crossentropy',metrics=['accuracy'])\n",
    "\n",
    "\n",
    "hist_2 = model_2.fit(X_train, Y_train,batch_size=32, epochs=15,validation_data=(X_val, Y_val))\n",
    "plt.plot(hist_2.history['loss'])\n",
    "plt.plot(hist_2.history['val_loss'])\n",
    "plt.title('Model loss')\n",
    "plt.ylabel('Loss')\n",
    "plt.xlabel('Epoch')\n",
    "plt.legend(['Train', 'Val'], loc='upper right')\n",
    "plt.show()\n",
    "\n",
    "\n"
   ]
  },
  {
   "cell_type": "code",
   "execution_count": null,
   "metadata": {},
   "outputs": [
    {
     "ename": "SyntaxError",
     "evalue": "invalid syntax (2313867869.py, line 2)",
     "output_type": "error",
     "traceback": [
      "\u001b[1;36m  Cell \u001b[1;32mIn[378], line 2\u001b[1;36m\u001b[0m\n\u001b[1;33m    caluar metricas de KeyError\u001b[0m\n\u001b[1;37m           ^\u001b[0m\n\u001b[1;31mSyntaxError\u001b[0m\u001b[1;31m:\u001b[0m invalid syntax\n"
     ]
    }
   ],
   "source": [
    "\n",
    "#preddcion \n",
    "y_pred = model.predict(X_test)\n",
    "\n",
    "#metricas de error\n",
    "mae = mean_absolute_error(Y_test, y_pred)\n",
    "mse = mean_squared_error(Y_test, y_pred)\n",
    "rmse = np.sqrt(mse)\n",
    "r2 = r2_score(Y_test, y_pred)\n",
    "mape = np.mean(np.abs((Y_test - y_pred) / Y_test))*100\n",
    "\n",
    "print(f'MAE:{mae}')\n",
    "print(f'MAE:{mse}')\n",
    "print(f'MAE:{rmse}')\n",
    "print(f'MAE:{r2}')\n",
    "print(f'MAE:{mape}')\n",
    "\n",
    "\n",
    "\n",
    "#caluar metricas de KeyError\n",
    "#mse \n",
    "#coeficiente de determinacion cercano a 1\n",
    "#districucion \n",
    "#y_pred - Y_test\n",
    "\n",
    "\n",
    "\n",
    "#jupiter notebooks\n",
    "#semana 12\n",
    "#Video\n",
    "\n",
    "\n",
    "#reviusar formato.\n",
    "#revisar columnas adecuadas\n",
    "#datos que se envian al entrenamineto\n",
    "#metrica binary coseentropy es la que deberia ?\n",
    "#mse->\n",
    "#mae->\n",
    "\n",
    "#probar con arinma?\n",
    "\n",
    "\n",
    "\n",
    "\n",
    "\n",
    "# puedo hacert escalamiento con estandar escaler, min max, pero hay otras fornmas\n",
    "#cuando escalo al final debo desescalar para utilizar las mismas unidades del inico\n",
    "\n",
    "\n",
    "\n",
    "##cuando entreno un modelo y observo que el valor de validation val empieza a crecer graficamnete el modelo se empiezxa a sobreajustar\n",
    "##entonces debo hajustar la cantidad de iteraciones.\n",
    "\n",
    "\n",
    "\n",
    "#el tamano de la red importa incluso es mejor menos neuronas que muchas \n",
    "\n",
    "#debo agregar regularizacion\n",
    "\n",
    "\n",
    "#tener un numero de neuronas en la entrada debe corresponder al numnero de variables que utiliza mi dataset o numero de clases que utiliza el dataset\n",
    "\n",
    "#entrada numero de var\n",
    "# capa oculta 2^n \n",
    "#capa de salida 1\n",
    "\n",
    "#Ejemplos Entrada 3 6 1\n",
    "\n",
    "# con dos capas ocultas\n",
    "# 3 32 16 1\n",
    "#para la segunda capa es bueno dejar la mitad del numero de la primera capa   E  32 --> 16 S     E  8 -->4 S\n",
    "\n",
    "# optimizadores\n",
    "#loss=binary_crossentropy -> valores categioricos\n",
    "#loss = mse -> valores reales (Numericos)\n",
    "\n",
    "\n",
    "\n",
    "#REgresion y clasifgiccaicon\n",
    "#MLPClassifier_network\n",
    "#MLP_regresor\n",
    "\n",
    "#matrizx de cionsfucion \n",
    "\n",
    "\n",
    "#tasas de regulariczacion \n",
    "\n",
    "#mean_squared_error\n",
    "\n",
    "\n",
    "#dividir coinjunto y prueba\n",
    "\n",
    "#partir escalar\n",
    "\n",
    "#entrenamientop\n",
    "\n",
    "#predicion\n",
    "\n",
    "\n",
    "\n",
    "#estar seguro clasificacion matriz de consucion\n",
    "#regfresion mse rmse \n",
    "#r2 \n",
    "#y graficar distribucion de errores\n",
    "\n",
    "\n",
    "\n",
    "\n"
   ]
  },
  {
   "cell_type": "markdown",
   "metadata": {},
   "source": [
    "Se realizan red con base en el articulo:\n",
    "https://hackernoon.com/build-your-first-neural-network-to-predict-house-prices-with-keras-3fb0839680f4"
   ]
  },
  {
   "cell_type": "code",
   "execution_count": null,
   "metadata": {},
   "outputs": [],
   "source": []
  }
 ],
 "metadata": {
  "kernelspec": {
   "display_name": "base",
   "language": "python",
   "name": "python3"
  },
  "language_info": {
   "codemirror_mode": {
    "name": "ipython",
    "version": 3
   },
   "file_extension": ".py",
   "mimetype": "text/x-python",
   "name": "python",
   "nbconvert_exporter": "python",
   "pygments_lexer": "ipython3",
   "version": "3.12.3"
  }
 },
 "nbformat": 4,
 "nbformat_minor": 2
}
